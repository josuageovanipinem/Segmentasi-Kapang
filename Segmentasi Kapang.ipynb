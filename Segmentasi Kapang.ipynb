{
 "cells": [
  {
   "cell_type": "markdown",
   "id": "9dc8842f",
   "metadata": {},
   "source": [
    "# Segmentasi Kapang dengan Otsu Thresholding, Adaptive Thresholding dan K-Means Clustering\n",
    "### Studi Kasus: Kapang Genus Aspergillus, Trichoderma dan Cladosporium"
   ]
  },
  {
   "cell_type": "markdown",
   "id": "6a13b6b8",
   "metadata": {},
   "source": [
    "<blockquote>\n",
    "<p>\n",
    "    Pusat Riset Kecerdasan Artifisial dan Keamanan Siber BRIN telah menghasilkan 1 (satu) buah program komputer dengan judul : “Program Segmentasi Citra Kapang Aspergillus, Trichoderma dan Cladosporium dengan Adaptive Thresholding, Otsu Thresholding dan K-Means Clustering”\n",
    "    </p>\n",
    "<p>Hasil dari program ini telah diterima pada proceeding The 9th International Conference on Computer, Control, Informatics and its Applications (IC3INA 2022) dengan judul <center> <p> <code class='literal'>  <em>\"Image Segmentation for Aspergillus, Cladosporium, and Trichoderma Fungus\"</em> </code> </p> </center> dengan ACM Reference format:<b>\n",
    "M. Wibowo, B. R. Maulana, G. M. Putra, J. G. Pinem, U. Chasanah, R. P.\n",
    "Pramesti, M. R. Supriyadi, D. N. Hidayati, Kristiningrum, A. H. Subekti,\n",
    "M. Alfin, D. H. Budiarti, J. Muliadi, A. S. Nugroho. Image Segmentation\n",
    "for Aspergillus, Cladosporium, and Trichoderma Fungus. In The 9th\n",
    "International Conference on Computer, Control, Informatics and Its\n",
    "Applications(IC3INA2022).ACM, New York, NY, USA, 5 pages. </b>\n",
    "</p>\n",
    "<p>\n",
    "Untuk data yang digunakan belum dipublish secara umum, dapat merujuk pada data penelitian yang dihasilkan dan disimpan pada <a href=\"http://biomcc.brin.go.id/ownclod\" target=\"_blank\">BIOMCC BRIN</a> atau <a href=\"https://data.lipi.go.id\" target=\"_blank\">Dataverse BRIN</a>.\n",
    "</p>\n",
    "</blockquote>"
   ]
  },
  {
   "cell_type": "markdown",
   "id": "beb464e3",
   "metadata": {},
   "source": [
    "# Latar Belakang"
   ]
  },
  {
   "cell_type": "markdown",
   "id": "459d2f2d",
   "metadata": {},
   "source": [
    "<p>Keragaman kapang memiliki peran yang sangat penting dalam menjaga keseimbangan agroekosistem, bidang medis, farmasi, hingga industri makanan dan minuman. Keragaman tersebut diverifikasi melalui proses identifikasi yang berbasis pengamatan morfologi secara mikroskopis, yang memerlukan pengetahuan dan pengalaman yang luas. Proses identifikasi terhadap suatu kapang secara cepat dan akurat sangat diperlukan dalam berbagai aplikasi, termasuk saat melakukan eksplorasi keragaman kapang. Salah satu langkah awal yang dilakukan ialah dengan melakukan segmentasi citra kapang. </p>\n",
    "<p> Tujuan utama segmentasi ialah untuk memisahkan citra kapang dengan objek lain yang ada pada gambar. Segmentasi pada kapang dengan ukuran mikroskopis memiliki tantangan tersendiri. Adapun program ini bertujuan untuk melakukan segmentasi mikrorganisme kapang dari tiga genus: Aspergillus, Cladospoorium dan Trichoderma. Adapun algoritma seperti Otsu Thresholding, Adaptive Thresholding dan K-Means Clustering diterapkan pada program untuk dapat melakukan pemisahan objek dengan background pada citra mikroskopik. </p>"
   ]
  },
  {
   "cell_type": "markdown",
   "id": "06c59e50",
   "metadata": {},
   "source": [
    "# Overview Program"
   ]
  },
  {
   "cell_type": "markdown",
   "id": "fcc85c7e",
   "metadata": {},
   "source": [
    "Ada beberapa tahapan untuk dapat menjalankan program ini. Dimulai dari penyiapan environment, dependency dan library hingga menyimpan hasil program dalam format tabular. Adapun langkah-langkah tersebut ialah sebagai berikut:  "
   ]
  },
  {
   "cell_type": "markdown",
   "id": "695e5218",
   "metadata": {},
   "source": [
    "<ul class=\"itemizedlist\">\n",
    "            <li class=\"listitem\">\n",
    "              <p>Persiapan Environment Program</p>\n",
    "            </li>\n",
    "            <li class=\"listitem\">\n",
    "              <p>Instalasi Dependency dan Library</p>\n",
    "            </li>\n",
    "            <li class=\"listitem\">\n",
    "              <p>Preprocessing Data</p>\n",
    "            </li>\n",
    "            <li class=\"listitem\">\n",
    "              <p> Segmentasi</p>\n",
    "            </li>\n",
    "            <li class=\"listitem\">\n",
    "              <p>Post processing</p>\n",
    "            </li>    \n",
    "            <li class=\"listitem\">\n",
    "              <p>Evaluasi</p>\n",
    "            </li>\n",
    "            <li class=\"listitem\">\n",
    "              <p>Pencatatan Hasil</p>\n",
    "            </li>    \n",
    "          </ul>"
   ]
  },
  {
   "cell_type": "markdown",
   "id": "c95b5d54",
   "metadata": {},
   "source": [
    "# 1. Persiapan Environment Program"
   ]
  },
  {
   "cell_type": "markdown",
   "id": "ac8a1e8b",
   "metadata": {},
   "source": [
    "Ada 2 (dua) cara yang dapat dilakukan untuk menjalankan program dengan format .ipynb ini. Pertama ialah dengan menggunakan jupyter cloud atau google colabs serta dijalankan secara lokal dengan menggunakan Integrated Development Environment editor. "
   ]
  },
  {
   "cell_type": "markdown",
   "id": "1b8f70b3",
   "metadata": {},
   "source": [
    "### 1.1 Menggunakan Integrated Development Environment (IDE)"
   ]
  },
  {
   "cell_type": "markdown",
   "id": "d5a9cb1e",
   "metadata": {},
   "source": [
    "Ada banyak tool code editor yang dapat digunakan untuk menjalankan file dalam format .ipynb. Adapun contoh yang dapat digunakan ialah:\n",
    "<ul class=\"itemizedlist\">\n",
    "            <li class=\"listitem\">\n",
    "              <p><a href=\"https://code.visualstudio.com/\" target=\"_blank\">Visual Studio Code</a></p>\n",
    "            </li>\n",
    "            <li class=\"listitem\">\n",
    "              <p><a href=\"https://www.jetbrains.com/pycharm/\" target=\"_blank\">Pycharm</a></p>\n",
    "            </li>\n",
    "            <li class=\"listitem\">\n",
    "              <p><a href=\"https://www.spyder-ide.org/\" target=\"_blank\">Spyder</a></p>\n",
    "            </li>\n",
    "            <li class=\"listitem\">\n",
    "              <p><a href=\"https://atom.io/\" target=\"_blank\">Atom</a></p>\n",
    "            </li>\n",
    "            <li class=\"listitem\">\n",
    "              <p><a href=\"https://jupyter.org/\" target=\"_blank\">Jupyter Notebook</a></p>\n",
    "            </li>    \n",
    "            <li class=\"listitem\">\n",
    "              <p><a href=\"https://www.sublimetext.com/\" target=\"_blank\">Sublimetext</a></p>\n",
    "            </li>  \n",
    "          </ul>\n"
   ]
  },
  {
   "cell_type": "markdown",
   "id": "2b52d1d3",
   "metadata": {},
   "source": [
    "Langkah yang harus dilakukan ialah melakukan instalasi IDE yang digunakan. Untuk instalasi dan merujuk pada link yang tersedia di atas. Agar dapat menjalankan file .ipynb maka pada IDE yang digunakan dipasang add-on untuk format jupyter."
   ]
  },
  {
   "cell_type": "markdown",
   "id": "0a7233d1",
   "metadata": {},
   "source": [
    "### 1.2 Menggunakan Interactive Data Science dan Scientific Computing Tool"
   ]
  },
  {
   "cell_type": "markdown",
   "id": "aae45a73",
   "metadata": {},
   "source": [
    "Dengan menggunakan web-based interactive computational environment maka program ini dapat dijalankan pada cloud. Adapun media yang dapat digunakan:\n",
    "<ul class=\"itemizedlist\">\n",
    "            <li class=\"listitem\">\n",
    "              <p><a href=\"https://colab.research.google.com/\" target=\"_blank\">Google Colab</a></p>\n",
    "            </li>\n",
    "            <li class=\"listitem\">\n",
    "              <p><a href=\"https://https://jupyter.org/\" target=\"_blank\">Jupyter Lab</a></p>\n",
    "          </ul>\n"
   ]
  },
  {
   "cell_type": "markdown",
   "id": "71f4982c",
   "metadata": {},
   "source": [
    "Untuk konfigurasi Jupyter Lab membutuhkan resource perangkat keras dan konfigurasi yang lebih panjang. Sementara Google Colab dapat dijalankan dengan lebih sederhana "
   ]
  },
  {
   "cell_type": "markdown",
   "id": "e8c88d36",
   "metadata": {},
   "source": [
    "# 2. Instalasi Dependencies dan Libraries"
   ]
  },
  {
   "cell_type": "markdown",
   "id": "48bc5e6c",
   "metadata": {},
   "source": [
    "<p>Agar dapat berjalan dengan semestinya adapun kebutuhan dasar dari versi perangkat lunak yang digunakan ialah sebagai berikut</p>\n",
    "\n",
    "\n",
    "<b>2.1 Dependency Jupyter</b>\n",
    "<p>Versi jupyter minimal yang digunakan ialah: </p>\n",
    "<blockquote>\n",
    "<ul class=\"itemizedlist\">\n",
    "            <li class=\"listitem\">\n",
    "              <p>jupyter core     \t: 4.7.1</p>\n",
    "            </li>\n",
    "            <li class=\"listitem\">\n",
    "              <p>jupyter-notebook \t: 6.2.0</p>\n",
    "            </li>\n",
    "            <li class=\"listitem\">\n",
    "              <p>ipython          \t: 7.22.0</p>\n",
    "            </li>\n",
    "            <li class=\"listitem\">\n",
    "              <p>ipykernel\t\t: 5.5.3</p>\n",
    "            </li>\n",
    "            <li class=\"listitem\">\n",
    "              <p>jupyter client\t: 6.1.12</p>\n",
    "            </li>    \n",
    "            <li class=\"listitem\">\n",
    "              <p>jupyter lab\t\t: 2.3.1</p>\n",
    "            </li>\n",
    "            <li class=\"listitem\">\n",
    "              <p>nbconvert\t\t: 6.0.7</p>\n",
    "            </li>\n",
    "            <li class=\"listitem\">\n",
    "              <p>traitlets\t\t: 5.0.5</p>\n",
    "            </li>        \n",
    "          </ul>\n",
    "    </blockquote> \n",
    "<p> <b> 2.2 Environment Dependencies </b>\n",
    "<p>Versi beberapa environment minimal yang digunakan ialah: </p>\n",
    "    <blockquote>\n",
    "<ul class=\"itemizedlist\">\n",
    "            <li class=\"listitem\">\n",
    "              <p>Python \t\t\t3.8.5</p>\n",
    "            </li>\n",
    "            <li class=\"listitem\">\n",
    "              <p>Numpy\t\t\t\t1.23.1</p>\n",
    "            </li>\n",
    "            <li class=\"listitem\">\n",
    "              <p>Pandas\t\t\t1.4.3 </p>\n",
    "            </li>      \n",
    "          </ul>   \n",
    "        </blockquote> \n",
    "<p> <b> 2.3 Image Processing Dependencies </b>\n",
    "    <blockquote>\n",
    "    <ul class=\"itemizedlist\">\n",
    "            <li class=\"listitem\">\n",
    "              <p>Skimage\t\t\t: 0.19.3</p>\n",
    "            </li>\n",
    "            <li class=\"listitem\">\n",
    "              <p>OpenCV2\t\t\t: 4.6.0</p>\n",
    "            </li>    \n",
    "            <li class=\"listitem\">\n",
    "              <p>Scipy\t\t\t: 1.9.3</p>\n",
    "            </li>        \n",
    "          </ul> \n",
    "        </blockquote> \n",
    "<p> <b> 2.4 Browser Compatibility </b>  \n",
    "    <blockquote>\n",
    "     <ul class=\"itemizedlist\">\n",
    "            <li class=\"listitem\">\n",
    "              <p>Chrome</p>\n",
    "            </li>\n",
    "            <li class=\"listitem\">\n",
    "              <p>Safari</p>\n",
    "            </li>\n",
    "            <li class=\"listitem\">\n",
    "              <p>Firefox</p>\n",
    "            </li>          \n",
    "          </ul>    \n",
    "</blockquote>    "
   ]
  },
  {
   "cell_type": "markdown",
   "id": "8b22d1e4",
   "metadata": {},
   "source": [
    "# 3. Data Pre-processing "
   ]
  },
  {
   "cell_type": "markdown",
   "id": "96644988",
   "metadata": {},
   "source": [
    "Pada tahapan ini dilakukan pengolahan data pada citra kapang agar dapat diolah sistem dengan lebih mudah. Ada beberapa tahapan yang dibutuhkan agar citra dapat dioleh lebih lanjut. Sebelum dapat dijalankan adapun library yang perlu diimport ialah sebagai berikut:"
   ]
  },
  {
   "cell_type": "code",
   "execution_count": 7,
   "id": "340b9df4",
   "metadata": {},
   "outputs": [],
   "source": [
    "import cv2\n",
    "import numpy as np\n",
    "from matplotlib import pyplot as plt\n",
    "import pandas as pd\n",
    "import os\n",
    "\n",
    "import numpy as np\n",
    "from scipy.spatial.distance import jaccard\n",
    "from sklearn.metrics import jaccard_score\n",
    "\n",
    "from skimage.filters import threshold_otsu\n",
    "from skimage.morphology import (erosion, dilation, closing, opening,\n",
    "                                area_closing, area_opening, square)\n",
    "from skimage.filters import unsharp_mask\n",
    "from skimage import exposure\n",
    "\n",
    "%matplotlib inline\n",
    "import warnings\n",
    "warnings.filterwarnings('ignore')"
   ]
  },
  {
   "cell_type": "markdown",
   "id": "23c763d9",
   "metadata": {},
   "source": [
    "<blockquote><div><strong>Note:</strong></div><div class=\"titlepage\">\n",
    "            <div>\n",
    "              <div>\n",
    "                <div class=\"sidebar-title\">Penggunaan Library</div>\n",
    "              </div>\n",
    "            </div>\n",
    "          </div>\n",
    "          <p>\n",
    "              Numpy digunakan sebagai pustaka untuk himpunan dan matriks multidimensional yang besar serta dilengkapi koleksi sejumlah besar fungsi matematika tingkat tinggi. \n",
    "              Panda digunakan untuk manipulasi dan analisis data yang juga menyediakan struktur data dan operasi untuk memanipulasi tabel numerik dan deret waktu.\n",
    "              CV2 atau OpenCV merupakan pustaka perangkat lunak yang ditujukan untuk pengolahan citra dinamis secara realtime. \n",
    "              Skimage atau Sckit-Image merupakan pustaka algoritma yang dapat digunakan untuk pengolahan citra. \n",
    "              Scipy merupaka pustaka yang digunakan untuk scientific computing dan technical computing. \n",
    "              Matplotlib merupakan pustaka plot yang digunakan sebagai toolkit GUI pada pyhton.\n",
    "</p></blockquote>\n"
   ]
  },
  {
   "cell_type": "markdown",
   "id": "611d2875",
   "metadata": {},
   "source": [
    "#### 3.1 Load Images"
   ]
  },
  {
   "cell_type": "markdown",
   "id": "a4094494",
   "metadata": {},
   "source": [
    "Sebelum dapat menjalankan fungsi ini pastikan lokasi dari Citra Kapang dengan citra GT Kapang sudah diketahui. <code><b>folder_gt</b></code> merupakan lokasi dari Mask/Groundtruth dari kapang. Sementara <b><code>folder_base</code></b> merupakan lokasi dari citra asli kapang. <b><code>gt_path</code></b> dan <b><code>base_path</code></b> merupakan lokasi dari satu citra kapang yang digunakan untuk uji coba. "
   ]
  },
  {
   "cell_type": "code",
   "execution_count": 44,
   "id": "512e1e3f",
   "metadata": {},
   "outputs": [],
   "source": [
    "# Pastikan lokasi telah sesuai\n",
    "# All images\n",
    "folder_gt = \"dataset/all/gt/\"\n",
    "folder_base = \"dataset/all/base_cp/\"\n",
    "folder_threshold_adaptive = \"dataset/all/out/adaptive_threshold\"\n",
    "folder_cc = \"dataset/all/out/connected_component\"\n",
    "#single image\n",
    "gt_path = 'dataset/all/gt/f.PL.1129_Cladosporium_5.png'\n",
    "base_path = 'dataset/all/base_cp/f.PL.1129_Cladosporium_5.png'"
   ]
  },
  {
   "cell_type": "code",
   "execution_count": 26,
   "id": "2c84f70a",
   "metadata": {},
   "outputs": [],
   "source": [
    "#load image\n",
    "def loadImage(path):\n",
    "    img = cv2.imread(path)\n",
    "#     img = cv2.cvtColor(img, cv2.COLOR_BGR2GRAY)\n",
    "    return img\n",
    "\n",
    "#load images\n",
    "def loadImages(folder):\n",
    "    images = []\n",
    "    for filename in os.listdir(folder):\n",
    "        img = cv2.imread(os.path.join(folder, filename))\n",
    "        #img = cv2.cvtColor(img, cv2.COLOR_BGR2GRAY)\n",
    "        if img is not None:\n",
    "            images.append(img)\n",
    "    return images\n",
    "\n",
    "#Function used to show a single image\n",
    "def showIm(im, name=\"image\"):\n",
    "    plt.imshow(im, cmap=\"gray\"), plt.title(name)\n",
    "    show = plt.show()\n",
    "    return show"
   ]
  },
  {
   "cell_type": "markdown",
   "id": "8c0c6405",
   "metadata": {},
   "source": [
    "Untuk memastikan data dapat dan telah dibaca maka dilakukan percobaan untuk satu gambar"
   ]
  },
  {
   "cell_type": "code",
   "execution_count": 45,
   "id": "871a578c",
   "metadata": {
    "scrolled": true
   },
   "outputs": [
    {
     "data": {
      "image/png": "[encoded data removed]",
      "text/plain": [
       "<Figure size 432x288 with 1 Axes>"
      ]
     },
     "metadata": {
      "needs_background": "light"
     },
     "output_type": "display_data"
    }
   ],
   "source": [
    "base_images = loadImages(folder_base)\n",
    "gt_images = loadImages(folder_gt)\n",
    "base_image = loadImage(base_path)\n",
    "gt_image = loadImage(gt_path)\n",
    "showIm(base_image)"
   ]
  },
  {
   "cell_type": "code",
   "execution_count": 28,
   "id": "07c2fa39",
   "metadata": {},
   "outputs": [
    {
     "data": {
      "image/png": "[encoded data removed]",
      "text/plain": [
       "<Figure size 432x288 with 1 Axes>"
      ]
     },
     "metadata": {
      "needs_background": "light"
     },
     "output_type": "display_data"
    }
   ],
   "source": [
    "showIm(gt_image)"
   ]
  },
  {
   "cell_type": "markdown",
   "id": "00f9af1d",
   "metadata": {},
   "source": [
    "#### 3.2 Konversi Citra RGB ke Gray serta Binary\n",
    "Pada program ini disediakan beragam jenis konversi citra. Adapun konversi yang dapat dilakukan ialah RGB2Gray, Gray2Binary, BGR2RGB"
   ]
  },
  {
   "cell_type": "code",
   "execution_count": 29,
   "id": "f610b212",
   "metadata": {},
   "outputs": [],
   "source": [
    "def cv2Binary(base_img):\n",
    "    ret,thresh2 = cv2.threshold(base_img,0,1,cv2.THRESH_BINARY)\n",
    "    return thresh2\n",
    "\n",
    "#grayscale single\n",
    "def cv2Gray(img):\n",
    "    image  = cv2.cvtColor(img, cv2.COLOR_BGR2GRAY)\n",
    "    return image\n",
    "\n",
    "#grayscale to all images\n",
    "def cv2Grays(img):\n",
    "    images= []\n",
    "    for image in img:\n",
    "        image  = cv2.cvtColor(image, cv2.COLOR_BGR2GRAY)\n",
    "        images.append(image)\n",
    "    return images\n",
    "\n",
    "#preprocess all images\n",
    "def preprocessing(ima):\n",
    "    images = []\n",
    "    for image in ima:\n",
    "        image = cv2.cvtColor(image, cv2.COLOR_BGR2GRAY)\n",
    "        image = np.array(image)\n",
    "        if image is not None:\n",
    "            images.append(image)\n",
    "    return images\n",
    "\n",
    "def cv2rgb(img):\n",
    "    image  = cv2.cvtColor(img, cv2.COLOR_BGR2RGB)\n",
    "    return image\n",
    "\n",
    "def rgb2gray(rgb):\n",
    "    return np.round((np.dot(rgb[...,:3], [0.2989, 0.5870, 0.1140])),0)\n",
    "\n",
    "# def bilateral(img):\n",
    "#     bilateral = cv2.bilateralFilter(img, 6, 15, 30)\n",
    "#     return bilateral\n",
    "\n",
    "# Contrast stretching\n",
    "def contrast(img):\n",
    "    p2, p98 = np.percentile(img, (2, 90))\n",
    "    image = exposure.rescale_intensity(img, in_range=(p2, p98))\n",
    "    return image\n",
    "\n",
    "# Image sharpening\n",
    "# def sharpen(img):\n",
    "#     kernel = np.array([[0, -1, 0],\n",
    "#                        [-1, 5,-1],\n",
    "#                        [0, -1, 0]])\n",
    "#     image_sharp = cv2.filter2D(src=img, ddepth=-1, kernel=kernel)\n",
    "#     return image_sharp\n",
    "\n",
    "def unsharp(img):\n",
    "    image = unsharp_mask(img, radius=5, amount=2)\n",
    "    return image"
   ]
  },
  {
   "cell_type": "markdown",
   "id": "301e592f",
   "metadata": {},
   "source": [
    "<blockquote><div><strong>Note:</strong></div><div class=\"titlepage\">\n",
    "            <div>\n",
    "              <div>\n",
    "                <div class=\"sidebar-title\">Pre-processing</div>\n",
    "              </div>\n",
    "            </div>\n",
    "          </div>\n",
    "          <p>\n",
    "             <b><code>cv2Binary</code></b> digunakan untuk mengubah citra menjadi citra biner. <b><code>cv2Gray</code></b> digunakan untuk mengubah citra ke grayscale. <b><code>cv2RGB</code></b> digunakan untuk konversi BGR ke RGB. <b><code>Contrast</code></b> digunakan untuk contrast stretching.\n",
    "</p></blockquote>\n"
   ]
  },
  {
   "cell_type": "markdown",
   "id": "1462624d",
   "metadata": {},
   "source": [
    "#### 3.3 Filter\n",
    "Ada 2 filter yang dapat digunakan untuk mengurangi pengaruh background. Adapun filter tersebut ialah billateral blur dan gaussian blur. "
   ]
  },
  {
   "cell_type": "code",
   "execution_count": 30,
   "id": "8c04c51b",
   "metadata": {},
   "outputs": [],
   "source": [
    "def billateralBlur(img, kernel=6):\n",
    "    img = cv2.bilateralFilter(img, kernel,15,90)\n",
    "    return img\n",
    "\n",
    "def gaussianBlur(img, kernel=5):\n",
    "    img = cv2.GaussianBlur(img, (kernel,kernel))\n",
    "    return img\n"
   ]
  },
  {
   "cell_type": "markdown",
   "id": "aaaba1f8",
   "metadata": {},
   "source": [
    "# 4. Segmentasi\n",
    "Ada 3 (tiga) segmentasi yang dapat dijalankan pada progaram ini terdiri dari Otsu Thresholding, Adaptive Thresholding dan K-Means Clustering"
   ]
  },
  {
   "cell_type": "markdown",
   "id": "40897a84",
   "metadata": {},
   "source": [
    "#### 4.1 Otsu Thresholding\n",
    "Algoritma ini secara menyeluruh mencari nilai ambang yang meminimalkan ragam dalam kelas yang didefinisikan sebagai jumlah berbobot ragam kedua kelas\n",
    "\n",
    "<blockquote> <em> The Otsu algorithm chooses the optimal threshold value based on the variance in the gray-level distribution of an image by maximizing class separability. The zeroth and first-order cumulative moments of the gray-level histogram are used in this procedure. </em>[1] <p>\n",
    "[1] N. Otsu, “A Threshold Selection Method from Gray-Level Histograms,”\n",
    "IEEE Trans. Syst. Man Cybern., vol. 9, no. 1, pp. 62–66, Jan. 1979, doi:\n",
    "10.1109/TSMC.1979.4310076 </p>\n",
    "</blockquote>    "
   ]
  },
  {
   "cell_type": "code",
   "execution_count": 31,
   "id": "f91adf92",
   "metadata": {},
   "outputs": [],
   "source": [
    "def seg_otsu(img):\n",
    "    thresh = threshold_otsu(img)\n",
    "    imbw = closing(img > thresh, square(1))\n",
    "    return (~imbw)*1\n",
    "\n",
    "def otsuThresholding(img):\n",
    "    threshold_v, otsu = cv2.threshold(img, 0, 1, cv2.THRESH_BINARY_INV + cv2.THRESH_OTSU)\n",
    "    print(threshold_v)\n",
    "    return otsu"
   ]
  },
  {
   "cell_type": "markdown",
   "id": "e555ccb0",
   "metadata": {},
   "source": [
    "Implementasi Thresholding Otsu pada citra kapang"
   ]
  },
  {
   "cell_type": "code",
   "execution_count": 49,
   "id": "2d598adc",
   "metadata": {},
   "outputs": [],
   "source": [
    "#do otsu\n",
    "otsu_images = []\n",
    "for image in base_images:\n",
    "#     img = morp(seg_otsu(rgb2gray(np.float32(unsharp(contrast(bilateral(cv2rgb(image))))))))\n",
    "    img = seg_otsu(rgb2gray(np.float32(unsharp(contrast(billateralBlur(cv2rgb(image),6))))))\n",
    "    otsu_images.append(img)"
   ]
  },
  {
   "cell_type": "markdown",
   "id": "1bd1c816",
   "metadata": {},
   "source": [
    "#### 4.2 Adaptive Thresholding\n",
    "Thresholding dengan metode ini bertujuan untuk mengurangi noise yang lebih dominan pada background citra. Pendekatan yang dilakukan ialah dengan melakukan segmentasi pada area tertentu untuk seluruh lokasi pada citra. \n",
    "<blockquote> <em>\n",
    "Another threshold-based method is adaptive thresholding, when\n",
    "an image's threshold value varies depending on the spatial\n",
    "coordinates[2]. In adaptive thresholding, the threshold value is\n",
    "calculated for each fractional region of an image so that each\n",
    "fractional region has a different threshold value. Research\n",
    "enhanced the thresholding methods by combining entropy-based\n",
    "and variance-based algorithms[3].</em> </blockquote>\n",
    "<p>\n",
    "[2] R. C. Gonzalez and R. E. Woods, Digital image processing, 3rd ed. Upper Saddle River, N.J: Prentice Hall, 2008.</p>\n",
    "[3] Q. Deng, Z. Shi, and C. Ou, “Self-Adaptive Image Thresholding within Nonextensive Entropy and the Variance of the Gray-Level Distribution,” Entropy, vol. 24, no. 3, p. 319, Feb. 2022, doi: 10.3390/e24030319.  \n",
    "</p>"
   ]
  },
  {
   "cell_type": "code",
   "execution_count": 47,
   "id": "c83182e9",
   "metadata": {},
   "outputs": [],
   "source": [
    "def entp(x):\n",
    "    temp = np.multiply(x, np.log(x))\n",
    "    temp[np.isnan(temp)] = 0\n",
    "    return temp\n",
    "\n",
    "def adaptiveThresholdingEntropy(img):\n",
    "    H = cv2.calcHist([img],[0],None,[256],[0,256])\n",
    "    H = H / np.sum(H)\n",
    "    theta = np.zeros(256)\n",
    "    Hf = np.zeros(256)\n",
    "    Hb = np.zeros(256)\n",
    "    for T in range(1,255):\n",
    "        Hf[T] = - np.sum( entp(H[:T-1] / np.sum(H[1:T-1])) )\n",
    "        Hb[T] = - np.sum( entp(H[T:] / np.sum(H[T:])) )\n",
    "        theta[T] = Hf[T] + Hb[T]\n",
    "    theta_max = np.argmax(theta)\n",
    "    img_out = img > theta_max\n",
    "    threshold_v = theta_max\n",
    "    if (threshold_v%2==0):\n",
    "        threshold_v+=1\n",
    "    else:\n",
    "        pass\n",
    "    adaptive_g = cv2.adaptiveThreshold(img, 255, cv2.ADAPTIVE_THRESH_GAUSSIAN_C, cv2.THRESH_BINARY_INV, 401, 8)\n",
    "    return adaptive_g"
   ]
  },
  {
   "cell_type": "markdown",
   "id": "4e274e3d",
   "metadata": {},
   "source": [
    "Implementasi Adaptive Thresholding pada citra kapang"
   ]
  },
  {
   "cell_type": "code",
   "execution_count": 48,
   "id": "e5d69188",
   "metadata": {},
   "outputs": [],
   "source": [
    "#do adaptive images with billateral blur\n",
    "adaptive_images = []\n",
    "for image in cv2Grays(base_images):\n",
    "    img = adaptiveThresholdingEntropy(billateralBlur(image,6))\n",
    "    adaptive_images.append(img)"
   ]
  },
  {
   "cell_type": "markdown",
   "id": "9f81afb7",
   "metadata": {},
   "source": [
    "#### 4.3 K-Means Clustering\n",
    "\n",
    "K-means merupakan salah satu algoritma yang bersifat unsupervised learning. K-Means memiliki fungsi untuk mengelompokkan data kedalam data cluster. Algoritma ini dapat menerima data tanpa ada label kategori. K-Means Clustering Algoritma juga merupakan metode non-hierarchy. Metode Clustering Algoritma adalah mengelompokkan beberapa data ke dalam kelompok yang menjelaskan data dalam satu kelompok memiliki karakteristik yang sama dan memiliki karakteristik yang berbeda dengan data yang ada di kelompok lain\n",
    "\n",
    "<blockquote>\n",
    "<em> K-means is a similaritybased clustering method most often implemented in unsupervised learning </em> [4] </blockquote>\n",
    "\n",
    "[4] F. Kulwa et al., “A state-of-the-art survey for microorganism image\n",
    "segmentation methods and future potential,” IEEE Access, vol. 7, pp.\n",
    "100243–100269, 2019, doi: 10.1109/ACCESS.2019.2930111"
   ]
  },
  {
   "cell_type": "code",
   "execution_count": 33,
   "id": "74d7e04d",
   "metadata": {},
   "outputs": [],
   "source": [
    "def seg_kmeans(image, ch=1):\n",
    "    pixel_vals = image.reshape((-1,ch))\n",
    "    # Convert to float type\n",
    "    pixel_vals = np.float32(pixel_vals)\n",
    "    criteria = (cv2.TERM_CRITERIA_EPS + cv2.TERM_CRITERIA_MAX_ITER, 100, 0.85)\n",
    "\n",
    "    # then perform k-means clustering with number of clusters defined as 2\n",
    "    #also random centres are initially choosed for k-means clustering\n",
    "    k = 2\n",
    "    retval, labels, centers = cv2.kmeans(pixel_vals, k, None, criteria, 10, cv2.KMEANS_PP_CENTERS)\n",
    "\n",
    "    # convert data into 8-bit values\n",
    "    centers = np.uint8(centers)\n",
    "    segmented_data = centers[labels.flatten()]\n",
    "\n",
    "    # reshape data into the original image dimensions\n",
    "#     segmented_image = segmented_data.reshape((image.shape)).astype(np.uint8)\n",
    "    segmented_image = segmented_data.reshape((image.shape))\n",
    "    th, segmented_image = cv2.threshold(segmented_image, 120, 255, cv2.THRESH_BINARY)\n",
    "#     th, segmented_image = cv2.threshold(segmented_image, 0, 1, cv2.THRESH_BINARY)\n",
    "#     segmented_image = 255 - segmented_image\n",
    "\n",
    "    return segmented_image"
   ]
  },
  {
   "cell_type": "markdown",
   "id": "d659fb7f",
   "metadata": {},
   "source": [
    "Implementasi K-Means Clustering pada citra kapang"
   ]
  },
  {
   "cell_type": "code",
   "execution_count": 50,
   "id": "d1733ee7",
   "metadata": {},
   "outputs": [],
   "source": [
    "#do clustering\n",
    "clus_images = []\n",
    "for image in base_images:\n",
    "#     img = cv2Binary(morp(connCompSingle(rgb2gray(255-seg_kmeans(sharpen(contrast(billateralBlur(cv2rgb(image),5))),3)).astype(np.uint8))))\n",
    "    img = cv2Binary(rgb2gray(255-seg_kmeans(contrast(billateralBlur(cv2rgb(image),6)),3)))\n",
    "    clus_images.append(img)"
   ]
  },
  {
   "cell_type": "markdown",
   "id": "45d18937",
   "metadata": {},
   "source": [
    "# 5. Post-Processing\n",
    "Sesudah proses segmentasi dilakukan agar citra yang dihasilkan lebih menyerupai gambar mask/ground truth maka dilakukan beberapa tahapan perbaikan. Adapun proses yang dilakukan ialah sebagai berikut:"
   ]
  },
  {
   "cell_type": "markdown",
   "id": "9888b285",
   "metadata": {},
   "source": [
    "#### 5.1 Erosi dan Dilasi\n",
    "Erosi dan Dilasi merupakan salah satu  morphological processing operation yang digunakan untuk menambahkan kontras pada gambar grayscale maupun biner.\n",
    "Erosi mencakup proses penghilangan pixel pada region ujung. Sementara dilasi merupakan proses pembalikan dengan penambahan pada ujung.\n"
   ]
  },
  {
   "cell_type": "code",
   "execution_count": 34,
   "id": "7ea1ad85",
   "metadata": {},
   "outputs": [],
   "source": [
    "def tipis(im, k_w=1, k_h=1):\n",
    "    kernel = np.ones((k_w,k_h),np.uint8)\n",
    "    im = cv2.erode(im, kernel, iterations=1 )\n",
    "    return im\n",
    "\n",
    "def tebal(im, k_w=1, k_h=1):\n",
    "    kernel = np.ones((k_w,k_h),np.uint8)\n",
    "    im = cv2.dilate(im, kernel, iterations=1 )\n",
    "    return im"
   ]
  },
  {
   "cell_type": "markdown",
   "id": "768cc099",
   "metadata": {},
   "source": [
    "#### 5.2 Connected Component\n",
    "Connected-Component Labelling atau Connected-Component Analysis atau Blob Extraction, Region Labelling, Blob Discovery atau Region Extraction merupakan algorimta yang menerapkan graph theory yang digunakan untuk mendeteksi area yang terhubung pada gambar biner, hingga gambar berwarna. "
   ]
  },
  {
   "cell_type": "code",
   "execution_count": 36,
   "id": "a21758d6",
   "metadata": {},
   "outputs": [],
   "source": [
    "def connCompSingle(im, min_size=1600):\n",
    "    im = im\n",
    "    nb_blobs, im_with_separated_blobs, stats, _ = cv2.connectedComponentsWithStats(im)\n",
    "    sizes = stats[:, -1]\n",
    "    sizes = sizes[1:]\n",
    "    nb_blobs -= 1\n",
    "    # minimum size of particles\n",
    "    min_size = min_size\n",
    "    #check if component size to small\n",
    "    im_result = np.zeros((im.shape))\n",
    "    # for every component in the image, keep it only if it's above min_size\n",
    "    for blob in range(nb_blobs):\n",
    "        if sizes[blob] >= min_size:\n",
    "            # see description of im_with_separated_blobs above\n",
    "            im_result[im_with_separated_blobs == blob + 1] = 255\n",
    "    return im_result  \n",
    "\n",
    "def connComp(img):\n",
    "    image = connCompSingle(img)\n",
    "    if (countWhitePixel(image)==0):\n",
    "        image = connCompSingle(img,200)\n",
    "    else:\n",
    "        pass\n",
    "    return image"
   ]
  },
  {
   "cell_type": "markdown",
   "id": "998341d9",
   "metadata": {},
   "source": [
    "Uji coba untuk menghasilkan gambar yang di-CCA untuk tiap metode segmentasi"
   ]
  },
  {
   "cell_type": "code",
   "execution_count": 52,
   "id": "a2d4b92d",
   "metadata": {},
   "outputs": [],
   "source": [
    "#Adaptive - CCA\n",
    "adap_cca_images = []\n",
    "for image in adaptive_images:\n",
    "    img = connComp(image)\n",
    "    adap_cca_images.append(img)\n",
    "    \n",
    "#Otsu - CCA\n",
    "otsu_cca_images = []\n",
    "for image in otsu_images:\n",
    "    img = connComp(image.astype(np.uint8))\n",
    "    otsu_cca_images.append(img)\n",
    "    \n",
    "#Cluster - CCA\n",
    "clus_cca_images = []\n",
    "for image in clus_images:\n",
    "    img = connComp(image.astype(np.uint8))\n",
    "    clus_cca_images.append(img)\n"
   ]
  },
  {
   "cell_type": "markdown",
   "id": "483f891e",
   "metadata": {},
   "source": [
    "#### 5.3 Hole Filling\n",
    "Hole filling merupakan salah satu bagiam dari morphological operation yang diterapkan untuk mengisi bagian yang dikelilingi area pixel berwarna putih dengan pixel berwarna hitam"
   ]
  },
  {
   "cell_type": "code",
   "execution_count": 37,
   "id": "97bc73e5",
   "metadata": {},
   "outputs": [],
   "source": [
    "def holeFilling(im):\n",
    "    im = im.astype(np.uint8)    \n",
    "    im_floodfill = im.copy()\n",
    "    h, w = im.shape[:2]\n",
    "    mask = np.zeros((h+2, w+2), np.uint8)\n",
    "    cv2.floodFill(im_floodfill, mask, (0,0), 255);\n",
    "    im_floodfill_inv = cv2.bitwise_not(im_floodfill)\n",
    "    im_out = im | im_floodfill_inv\n",
    "    return im_out"
   ]
  },
  {
   "cell_type": "markdown",
   "id": "98360bb4",
   "metadata": {},
   "source": [
    "<b>Implementsi hole-filling ke citra</b>"
   ]
  },
  {
   "cell_type": "code",
   "execution_count": 53,
   "id": "8eee7641",
   "metadata": {},
   "outputs": [],
   "source": [
    "#Adaptive - FILL\n",
    "adap_fill_images = []\n",
    "# connected_images2 = connected_images\n",
    "# for image in connected_images2:\n",
    "for image in adap_cca_images:\n",
    "    img = holeFilling(image)\n",
    "    if (countWhitePixel(img) <= countWhitePixel(image)*3):\n",
    "        adap_fill_images.append(img)\n",
    "    else:\n",
    "        adap_fill_images.append(image)\n",
    "        \n",
    "#Otsu - FILL\n",
    "otsu_fill_images = []\n",
    "for image in otsu_cca_images:\n",
    "    img = holeFilling(image)\n",
    "    if (countWhitePixel(img) <= countWhitePixel(image)*3):\n",
    "        otsu_fill_images.append(img)\n",
    "    else:\n",
    "        otsu_fill_images.append(image)\n",
    "        \n",
    "\n",
    "#Cluster - FILL\n",
    "clus_fill_images = []\n",
    "for image in clus_cca_images:\n",
    "    img = holeFilling(image)\n",
    "    if (countWhitePixel(img) <= countWhitePixel(image)*3):\n",
    "        clus_fill_images.append(img)\n",
    "    else:\n",
    "        clus_fill_images.append(image)"
   ]
  },
  {
   "cell_type": "markdown",
   "id": "66d0eb0e",
   "metadata": {},
   "source": [
    "# 6. Evaluasi \n",
    "Segmentasi Citra dievaluasi dengan melakukan perhitungan pada spatial overlap index dalam hal ini Jaccard dan Dice Similarity."
   ]
  },
  {
   "cell_type": "markdown",
   "id": "cc1eebec",
   "metadata": {},
   "source": [
    "#### 6.1 Jaccard Similarity\n",
    "Jaccard Similarity atau juga koefisien kemiripan jaccard merupakan ukuran kemiripan dan keragaman himpunan sample. \n",
    "<img src='https://wikimedia.org/api/rest_v1/media/math/render/svg/1c4df392dda20f192d0db8de72c37b900985b899'>\n"
   ]
  },
  {
   "cell_type": "code",
   "execution_count": 39,
   "id": "41c8fc92",
   "metadata": {},
   "outputs": [],
   "source": [
    "#count white pixels for all images\n",
    "def countWhitePixels(img):\n",
    "    data = []\n",
    "    for image in img:\n",
    "        pxl = cv2.countNonZero(image)\n",
    "        data.append(pxl)\n",
    "    return data\n",
    "\n",
    "#count white pixel for single image\n",
    "def countWhitePixel(img):\n",
    "    pxl = cv2.countNonZero(img)\n",
    "    return pxl\n",
    "\n",
    "def simJaccard(gt_image, th_image):\n",
    "    similarity = jaccard_score(gt_image.flatten(), th_image.flatten())\n",
    "    return round(similarity,4)"
   ]
  },
  {
   "cell_type": "markdown",
   "id": "d6a4a010",
   "metadata": {},
   "source": [
    "<b>Penghitungan jaccard similarity untuk Adaptive Thresholding</b>"
   ]
  },
  {
   "cell_type": "code",
   "execution_count": null,
   "id": "f8f52579",
   "metadata": {},
   "outputs": [],
   "source": [
    "name = getName(folder_base)\n",
    "name_gt = getName(folder_gt)\n",
    "#get the names, validate\n",
    "data = pd.DataFrame()\n",
    "data[\"name\"] = name\n",
    "data[\"name_gt\"] = name_gt\n",
    "\n",
    "#do jacard similarity\n",
    "jac_adaptive = []\n",
    "for index in range (0, len(gt_images)):\n",
    "    sim_ad = simJaccard(cv2Binary(cv2Gray(gt_images[index])),cv2Binary(adaptive_images[index]))\n",
    "    jac_adaptive.append(sim_ad)\n",
    "data[\"jac_adap\"] = jac_adaptive\n",
    "\n",
    "#Adaptive - CCA [JACCARD]\n",
    "jac_adap_cca = []\n",
    "for index in range (0, len(gt_images)):\n",
    "    sim_ad = simJaccard(cv2Binary(cv2Gray(gt_images[index])),cv2Binary(adap_cca_images[index]))\n",
    "    jac_adap_cca.append(sim_ad)\n",
    "data[\"jac_adap_cca\"] = jac_adap_cca\n",
    "\n",
    "#Adaptive - FILL [JACCARD]\n",
    "jac_adap_fill = []\n",
    "for index in range (0, len(gt_images)):\n",
    "    sim_ad = simJaccard(cv2Binary(cv2Gray(gt_images[index])),cv2Binary(adap_fill_images[index]))\n",
    "    jac_adap_fill.append(sim_ad)\n",
    "data[\"jac_adap_fill\"] = jac_adap_fill"
   ]
  },
  {
   "cell_type": "markdown",
   "id": "f67f86c2",
   "metadata": {},
   "source": [
    "<b>Penghitungan Jaccard similarity untuk Otsu Thresholding</b>"
   ]
  },
  {
   "cell_type": "code",
   "execution_count": 58,
   "id": "b3af514b",
   "metadata": {},
   "outputs": [],
   "source": [
    "#do jacard similarity\n",
    "jac_otsu = []\n",
    "for index in range (0, len(gt_images)):\n",
    "    sim_otsu = simJaccard(cv2Binary(cv2Gray(gt_images[index])),otsu_images[index])\n",
    "    jac_otsu.append(sim_otsu)\n",
    "data[\"jac_otsu\"] = jac_otsu\n",
    "\n",
    "#Otsu - CCA [JACCARD]\n",
    "jac_otsu_cca = []\n",
    "for index in range (0, len(gt_images)):\n",
    "    sim_ad = simJaccard(cv2Binary(cv2Gray(gt_images[index])),cv2Binary(otsu_cca_images[index]))\n",
    "    jac_otsu_cca.append(sim_ad)\n",
    "data[\"jac_otsu_cca\"] = jac_otsu_cca\n",
    "\n",
    "#Otsu - FILL [JACCARD]\n",
    "jac_otsu_fill = []\n",
    "for index in range (0, len(gt_images)):\n",
    "    sim_ad = simJaccard(cv2Binary(cv2Gray(gt_images[index])),cv2Binary(otsu_fill_images[index]))\n",
    "    jac_otsu_fill.append(sim_ad)\n",
    "data[\"jac_otsu_fill\"] = jac_otsu_fill\n"
   ]
  },
  {
   "cell_type": "markdown",
   "id": "7cafeb23",
   "metadata": {},
   "source": [
    "<b>Penghitungan jaccard similarity untuk K-Means Clustering</b>"
   ]
  },
  {
   "cell_type": "code",
   "execution_count": null,
   "id": "73a3f27a",
   "metadata": {},
   "outputs": [],
   "source": [
    "#do jacard similarity\n",
    "jac_clus = []\n",
    "for index in range (0, len(gt_images)):\n",
    "    sim_clus = simJaccard(cv2Binary(cv2Gray(gt_images[index])),clus_images[index])\n",
    "    jac_clus.append(sim_clus)\n",
    "data[\"jac_clus\"] = jac_clus\n",
    "\n",
    "#Cluster - CCA [JACCARD]\n",
    "jac_clus_cca = []\n",
    "for index in range (0, len(gt_images)):\n",
    "    sim_ad = simJaccard(cv2Binary(cv2Gray(gt_images[index])),cv2Binary(clus_cca_images[index]))\n",
    "    jac_clus_cca.append(sim_ad)\n",
    "data[\"jac_clus_cca\"] = jac_clus_cca\n"
   ]
  },
  {
   "cell_type": "markdown",
   "id": "81bfea8b",
   "metadata": {},
   "source": [
    "#### 6.2 Dice Similarity\n",
    "Disebut juga Sørensen–Dice coefficient merupakan metode statistika yang digunakan untuk menghitung kesamaan dari dua sample. Adapun rumus yang digunakan untuk perhitungan dice ialah sebagai berikut:\n",
    "<img src='https://wikimedia.org/api/rest_v1/media/math/render/svg/a80a97215e1afc0b222e604af1b2099dc9363d3b' >"
   ]
  },
  {
   "cell_type": "code",
   "execution_count": 59,
   "id": "8db17d91",
   "metadata": {},
   "outputs": [],
   "source": [
    "def dice_score(true, pred, k = 1):\n",
    "    intersection = np.sum(pred[true==k]) * 2.0\n",
    "    dice = intersection / (np.sum(pred) + np.sum(true))\n",
    "    return dice\n",
    "\n",
    "def simDice(gt_image, th_image):\n",
    "    similarity = dice_score(gt_image.flatten(), th_image.flatten())\n",
    "    return round(similarity,4)"
   ]
  },
  {
   "cell_type": "markdown",
   "id": "e6e1c05b",
   "metadata": {},
   "source": [
    "<b>Penghitungan dice similarity untuk Adaptive Thresholding</b>"
   ]
  },
  {
   "cell_type": "code",
   "execution_count": null,
   "id": "1d96e706",
   "metadata": {},
   "outputs": [],
   "source": [
    "#do DICE similarity ADAPTIVE\n",
    "dic_adaptive = []\n",
    "for index in range (0, len(gt_images)):\n",
    "    sim_ad = simDice(cv2Binary(cv2Gray(gt_images[index])),cv2Binary(adaptive_images[index]))\n",
    "    dic_adaptive.append(sim_ad)\n",
    "data[\"dic_adap\"] = dic_adaptive\n",
    "\n",
    "#Adaptive - CCA [DICE]\n",
    "dic_adap_cca = []\n",
    "for index in range (0, len(gt_images)):\n",
    "    sim = simDice(cv2Binary(cv2Gray(gt_images[index])),cv2Binary(adap_cca_images[index]))\n",
    "    dic_adap_cca.append(sim)\n",
    "data[\"dic_adap_cca\"] = dic_adap_cca\n",
    "\n",
    "#Adaptive - FILL [DICE]\n",
    "dic_adap_fill = []\n",
    "for index in range (0, len(gt_images)):\n",
    "    sim = simDice(cv2Binary(cv2Gray(gt_images[index])),cv2Binary(adap_fill_images[index]))\n",
    "    dic_adap_fill.append(sim)\n",
    "data[\"dic_adap_fill\"] = dic_adap_fill"
   ]
  },
  {
   "cell_type": "markdown",
   "id": "ae6e632e",
   "metadata": {},
   "source": [
    "<b>Penghitungan dice similarity untuk Otsu Thresholding</b>"
   ]
  },
  {
   "cell_type": "code",
   "execution_count": 60,
   "id": "e38794d2",
   "metadata": {},
   "outputs": [],
   "source": [
    "#do DICE similarity OTSU\n",
    "dic_otsu = []\n",
    "for index in range (0, len(gt_images)):\n",
    "    sim_otsu = simDice(cv2Binary(cv2Gray(gt_images[index])),otsu_images[index])\n",
    "    dic_otsu.append(sim_otsu)\n",
    "data[\"dic_otsu\"] = dic_otsu\n",
    "\n",
    "#Otsu - CCA [DICE]\n",
    "dic_otsu_cca = []\n",
    "for index in range (0, len(gt_images)):\n",
    "    sim = simDice(cv2Binary(cv2Gray(gt_images[index])),cv2Binary(otsu_cca_images[index]))\n",
    "    dic_otsu_cca.append(sim)\n",
    "data[\"dic_otsu_cca\"] = dic_otsu_cca\n",
    "\n",
    "#Otsu - FILL [DICE]\n",
    "dic_otsu_fill = []\n",
    "for index in range (0, len(gt_images)):\n",
    "    sim = simDice(cv2Binary(cv2Gray(gt_images[index])),cv2Binary(otsu_fill_images[index]))\n",
    "    dic_otsu_fill.append(sim)\n",
    "data[\"dic_otsu_fill\"] = dic_otsu_fill\n",
    "\n"
   ]
  },
  {
   "cell_type": "markdown",
   "id": "e28d36b1",
   "metadata": {},
   "source": [
    "<b>Penghitungan dice similarity untuk K-Means Clustering</b>"
   ]
  },
  {
   "cell_type": "code",
   "execution_count": 69,
   "id": "9d4f32cf",
   "metadata": {},
   "outputs": [],
   "source": [
    "#do DICE similarity CLUS\n",
    "dic_clus = []\n",
    "for index in range (0, len(gt_images)):\n",
    "    sim_clus = simDice(cv2Binary(cv2Gray(gt_images[index])),clus_images[index])\n",
    "    dic_clus.append(sim_clus)\n",
    "data[\"dic_clus\"] = dic_clus\n",
    "\n",
    "#Cluster - CCA [DICE]\n",
    "dic_clus_cca = []\n",
    "for index in range (0, len(gt_images)):\n",
    "    sim = simDice(cv2Binary(cv2Gray(gt_images[index])),cv2Binary(clus_cca_images[index]))\n",
    "    dic_clus_cca.append(sim)\n",
    "data[\"dic_clus_cca\"] = dic_clus_cca\n",
    "\n",
    "#Cluster - FILL [DICE]\n",
    "dic_clus_fill = []\n",
    "for index in range (0, len(gt_images)):\n",
    "    sim = simDice(cv2Binary(cv2Gray(gt_images[index])),cv2Binary(clus_fill_images[index]))\n",
    "    dic_clus_fill.append(sim)\n",
    "data[\"dic_clus_fill\"] = dic_clus_fill"
   ]
  },
  {
   "cell_type": "markdown",
   "id": "5e6e0583",
   "metadata": {},
   "source": [
    "# 7. Pencatatan Hasil\n",
    "Untuk dapat mengetahui hasil maka, keluaran dari program ini berupa hasil perhitungan segementasi dalam bentuk excel dan gambar hasil segmentasi dari semua proses. "
   ]
  },
  {
   "cell_type": "code",
   "execution_count": 61,
   "id": "00b25346",
   "metadata": {},
   "outputs": [],
   "source": [
    "#assigning name to dataframe\n",
    "def getName(folderin=folder_gt):\n",
    "    data = []\n",
    "    for filename in os.listdir(folderin):\n",
    "        data.append(filename)\n",
    "    return data\n",
    "\n",
    "def showAllIm(img):\n",
    "    for images in img:\n",
    "        showIm(images)\n",
    "        \n",
    "def showHist(img):\n",
    "    dst = cv2.calcHist(img, [0], None, [256], [0,256])\n",
    "    plt.hist(img.ravel(),256,[0,256])\n",
    "    plt.show()        \n",
    "        \n",
    "def saveImages(folderin, folderOut, images):\n",
    "    i=0\n",
    "    for filename in os.listdir(folderin):  \n",
    "        img = os.path.join(folderOut, filename)\n",
    "        cv2.imwrite(img, images[i])\n",
    "        i+=1       \n"
   ]
  },
  {
   "cell_type": "code",
   "execution_count": null,
   "id": "cf0f04ee",
   "metadata": {},
   "outputs": [],
   "source": []
  },
  {
   "cell_type": "code",
   "execution_count": 64,
   "id": "001e4744",
   "metadata": {
    "scrolled": true
   },
   "outputs": [
    {
     "data": {
      "text/html": [
       "<div>\n",
       "<style scoped>\n",
       "    .dataframe tbody tr th:only-of-type {\n",
       "        vertical-align: middle;\n",
       "    }\n",
       "\n",
       "    .dataframe tbody tr th {\n",
       "        vertical-align: top;\n",
       "    }\n",
       "\n",
       "    .dataframe thead th {\n",
       "        text-align: right;\n",
       "    }\n",
       "</style>\n",
       "<table border=\"1\" class=\"dataframe\">\n",
       "  <thead>\n",
       "    <tr style=\"text-align: right;\">\n",
       "      <th></th>\n",
       "      <th>jac_adap</th>\n",
       "      <th>jac_adap_cca</th>\n",
       "      <th>jac_adap_fill</th>\n",
       "      <th>jac_otsu</th>\n",
       "      <th>jac_otsu_cca</th>\n",
       "      <th>jac_otsu_fill</th>\n",
       "      <th>jac_clus</th>\n",
       "      <th>jac_clus_cca</th>\n",
       "      <th>dic_adap</th>\n",
       "      <th>dic_adap_cca</th>\n",
       "      <th>dic_adap_fill</th>\n",
       "      <th>dic_otsu</th>\n",
       "      <th>dic_otsu_cca</th>\n",
       "      <th>dic_otsu_fill</th>\n",
       "      <th>dic_clus</th>\n",
       "      <th>dic_clus_cca</th>\n",
       "      <th>dic_clus_fill</th>\n",
       "    </tr>\n",
       "  </thead>\n",
       "  <tbody>\n",
       "    <tr>\n",
       "      <th>count</th>\n",
       "      <td>60.000000</td>\n",
       "      <td>60.000000</td>\n",
       "      <td>60.000000</td>\n",
       "      <td>60.000000</td>\n",
       "      <td>60.000000</td>\n",
       "      <td>60.000000</td>\n",
       "      <td>60.000000</td>\n",
       "      <td>60.000000</td>\n",
       "      <td>60.000000</td>\n",
       "      <td>60.000000</td>\n",
       "      <td>60.000000</td>\n",
       "      <td>60.000000</td>\n",
       "      <td>60.000000</td>\n",
       "      <td>60.000000</td>\n",
       "      <td>60.000000</td>\n",
       "      <td>60.000000</td>\n",
       "      <td>60.000000</td>\n",
       "    </tr>\n",
       "    <tr>\n",
       "      <th>mean</th>\n",
       "      <td>0.514392</td>\n",
       "      <td>0.547818</td>\n",
       "      <td>0.553553</td>\n",
       "      <td>0.313695</td>\n",
       "      <td>0.354738</td>\n",
       "      <td>0.362577</td>\n",
       "      <td>0.231668</td>\n",
       "      <td>0.250637</td>\n",
       "      <td>0.659300</td>\n",
       "      <td>0.687222</td>\n",
       "      <td>0.689450</td>\n",
       "      <td>0.431398</td>\n",
       "      <td>0.468108</td>\n",
       "      <td>0.463907</td>\n",
       "      <td>0.318435</td>\n",
       "      <td>0.334978</td>\n",
       "      <td>0.329983</td>\n",
       "    </tr>\n",
       "    <tr>\n",
       "      <th>std</th>\n",
       "      <td>0.186286</td>\n",
       "      <td>0.193375</td>\n",
       "      <td>0.206193</td>\n",
       "      <td>0.234196</td>\n",
       "      <td>0.264521</td>\n",
       "      <td>0.298079</td>\n",
       "      <td>0.251494</td>\n",
       "      <td>0.271869</td>\n",
       "      <td>0.167312</td>\n",
       "      <td>0.169773</td>\n",
       "      <td>0.179332</td>\n",
       "      <td>0.266851</td>\n",
       "      <td>0.292573</td>\n",
       "      <td>0.321472</td>\n",
       "      <td>0.290785</td>\n",
       "      <td>0.310385</td>\n",
       "      <td>0.327475</td>\n",
       "    </tr>\n",
       "    <tr>\n",
       "      <th>min</th>\n",
       "      <td>0.131100</td>\n",
       "      <td>0.136800</td>\n",
       "      <td>0.136800</td>\n",
       "      <td>0.007200</td>\n",
       "      <td>0.007400</td>\n",
       "      <td>0.005500</td>\n",
       "      <td>0.005500</td>\n",
       "      <td>0.005500</td>\n",
       "      <td>0.231800</td>\n",
       "      <td>0.240700</td>\n",
       "      <td>0.240700</td>\n",
       "      <td>0.014300</td>\n",
       "      <td>0.014700</td>\n",
       "      <td>0.010900</td>\n",
       "      <td>0.010900</td>\n",
       "      <td>0.010900</td>\n",
       "      <td>0.010900</td>\n",
       "    </tr>\n",
       "    <tr>\n",
       "      <th>25%</th>\n",
       "      <td>0.379700</td>\n",
       "      <td>0.395025</td>\n",
       "      <td>0.397175</td>\n",
       "      <td>0.121000</td>\n",
       "      <td>0.121850</td>\n",
       "      <td>0.072175</td>\n",
       "      <td>0.034925</td>\n",
       "      <td>0.034950</td>\n",
       "      <td>0.550350</td>\n",
       "      <td>0.566300</td>\n",
       "      <td>0.568475</td>\n",
       "      <td>0.215825</td>\n",
       "      <td>0.217225</td>\n",
       "      <td>0.134625</td>\n",
       "      <td>0.067525</td>\n",
       "      <td>0.067525</td>\n",
       "      <td>0.060100</td>\n",
       "    </tr>\n",
       "    <tr>\n",
       "      <th>50%</th>\n",
       "      <td>0.503600</td>\n",
       "      <td>0.538700</td>\n",
       "      <td>0.557900</td>\n",
       "      <td>0.299550</td>\n",
       "      <td>0.330750</td>\n",
       "      <td>0.313600</td>\n",
       "      <td>0.114400</td>\n",
       "      <td>0.114950</td>\n",
       "      <td>0.669850</td>\n",
       "      <td>0.700200</td>\n",
       "      <td>0.716250</td>\n",
       "      <td>0.460950</td>\n",
       "      <td>0.497050</td>\n",
       "      <td>0.477450</td>\n",
       "      <td>0.205300</td>\n",
       "      <td>0.206150</td>\n",
       "      <td>0.163350</td>\n",
       "    </tr>\n",
       "    <tr>\n",
       "      <th>75%</th>\n",
       "      <td>0.667275</td>\n",
       "      <td>0.712325</td>\n",
       "      <td>0.743350</td>\n",
       "      <td>0.457925</td>\n",
       "      <td>0.585875</td>\n",
       "      <td>0.632750</td>\n",
       "      <td>0.396200</td>\n",
       "      <td>0.510350</td>\n",
       "      <td>0.800425</td>\n",
       "      <td>0.831975</td>\n",
       "      <td>0.852775</td>\n",
       "      <td>0.628200</td>\n",
       "      <td>0.738825</td>\n",
       "      <td>0.774975</td>\n",
       "      <td>0.567425</td>\n",
       "      <td>0.675825</td>\n",
       "      <td>0.661350</td>\n",
       "    </tr>\n",
       "    <tr>\n",
       "      <th>max</th>\n",
       "      <td>0.859500</td>\n",
       "      <td>0.937300</td>\n",
       "      <td>0.937600</td>\n",
       "      <td>0.897300</td>\n",
       "      <td>0.874500</td>\n",
       "      <td>0.967300</td>\n",
       "      <td>0.934400</td>\n",
       "      <td>0.885900</td>\n",
       "      <td>0.924400</td>\n",
       "      <td>0.967600</td>\n",
       "      <td>0.967800</td>\n",
       "      <td>0.945900</td>\n",
       "      <td>0.933000</td>\n",
       "      <td>0.983400</td>\n",
       "      <td>0.966100</td>\n",
       "      <td>0.939500</td>\n",
       "      <td>0.986200</td>\n",
       "    </tr>\n",
       "  </tbody>\n",
       "</table>\n",
       "</div>"
      ],
      "text/plain": [
       "        jac_adap  jac_adap_cca  jac_adap_fill   jac_otsu  jac_otsu_cca  \\\n",
       "count  60.000000     60.000000      60.000000  60.000000     60.000000   \n",
       "mean    0.514392      0.547818       0.553553   0.313695      0.354738   \n",
       "std     0.186286      0.193375       0.206193   0.234196      0.264521   \n",
       "min     0.131100      0.136800       0.136800   0.007200      0.007400   \n",
       "25%     0.379700      0.395025       0.397175   0.121000      0.121850   \n",
       "50%     0.503600      0.538700       0.557900   0.299550      0.330750   \n",
       "75%     0.667275      0.712325       0.743350   0.457925      0.585875   \n",
       "max     0.859500      0.937300       0.937600   0.897300      0.874500   \n",
       "\n",
       "       jac_otsu_fill   jac_clus  jac_clus_cca   dic_adap  dic_adap_cca  \\\n",
       "count      60.000000  60.000000     60.000000  60.000000     60.000000   \n",
       "mean        0.362577   0.231668      0.250637   0.659300      0.687222   \n",
       "std         0.298079   0.251494      0.271869   0.167312      0.169773   \n",
       "min         0.005500   0.005500      0.005500   0.231800      0.240700   \n",
       "25%         0.072175   0.034925      0.034950   0.550350      0.566300   \n",
       "50%         0.313600   0.114400      0.114950   0.669850      0.700200   \n",
       "75%         0.632750   0.396200      0.510350   0.800425      0.831975   \n",
       "max         0.967300   0.934400      0.885900   0.924400      0.967600   \n",
       "\n",
       "       dic_adap_fill   dic_otsu  dic_otsu_cca  dic_otsu_fill   dic_clus  \\\n",
       "count      60.000000  60.000000     60.000000      60.000000  60.000000   \n",
       "mean        0.689450   0.431398      0.468108       0.463907   0.318435   \n",
       "std         0.179332   0.266851      0.292573       0.321472   0.290785   \n",
       "min         0.240700   0.014300      0.014700       0.010900   0.010900   \n",
       "25%         0.568475   0.215825      0.217225       0.134625   0.067525   \n",
       "50%         0.716250   0.460950      0.497050       0.477450   0.205300   \n",
       "75%         0.852775   0.628200      0.738825       0.774975   0.567425   \n",
       "max         0.967800   0.945900      0.933000       0.983400   0.966100   \n",
       "\n",
       "       dic_clus_cca  dic_clus_fill  \n",
       "count     60.000000      60.000000  \n",
       "mean       0.334978       0.329983  \n",
       "std        0.310385       0.327475  \n",
       "min        0.010900       0.010900  \n",
       "25%        0.067525       0.060100  \n",
       "50%        0.206150       0.163350  \n",
       "75%        0.675825       0.661350  \n",
       "max        0.939500       0.986200  "
      ]
     },
     "execution_count": 64,
     "metadata": {},
     "output_type": "execute_result"
    }
   ],
   "source": [
    "data.describe()"
   ]
  },
  {
   "cell_type": "code",
   "execution_count": 65,
   "id": "60f89c44",
   "metadata": {},
   "outputs": [],
   "source": [
    "data.to_excel(\"result_detail2.xlsx\")"
   ]
  },
  {
   "cell_type": "code",
   "execution_count": 66,
   "id": "2777b283",
   "metadata": {},
   "outputs": [],
   "source": [
    "data.describe().to_excel(\"result_segmentation2.xlsx\")"
   ]
  }
 ],
 "metadata": {
  "kernelspec": {
   "display_name": "Python 3",
   "language": "python",
   "name": "python3"
  },
  "language_info": {
   "codemirror_mode": {
    "name": "ipython",
    "version": 3
   },
   "file_extension": ".py",
   "mimetype": "text/x-python",
   "name": "python",
   "nbconvert_exporter": "python",
   "pygments_lexer": "ipython3",
   "version": "3.8.5"
  }
 },
 "nbformat": 4,
 "nbformat_minor": 5
}
